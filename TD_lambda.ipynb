{
 "cells": [
  {
   "cell_type": "code",
   "execution_count": 1,
   "metadata": {},
   "outputs": [],
   "source": [
    "import numpy as np\n",
    "import matplotlib.pyplot as plt\n",
    "import gymnasium as gym"
   ]
  },
  {
   "cell_type": "code",
   "execution_count": 19,
   "metadata": {},
   "outputs": [],
   "source": [
    "class Agent():\n",
    "    def __init__(self, obs_dim, act_dim, c=2.0, epsilon=0.2) -> object:\n",
    "        self.obs_dim = obs_dim\n",
    "        self.act_dim = act_dim\n",
    "        self.max_dim = obs_dim * act_dim\n",
    "        self.epsilon = epsilon\n",
    "        self.ucb_Na = np.zeros(self.act_dim)\n",
    "        self.ucb_c = c\n",
    "        \n",
    "\n",
    "    def get_1dvec(self, s:int, a:int) -> np.ndarray:\n",
    "        vec = np.zeros(self.max_dim)\n",
    "        vec[s + a * self.obs_dim] = 1\n",
    "        return vec\n",
    "    \n",
    "\n",
    "    \n",
    "    def a_epsilon_greedy(self, s, w:np.ndarray):\n",
    "        all_q_ai = self.get_allq(s, w)\n",
    "    \n",
    "        if np.random.rand() < self.epsilon:\n",
    "            out_a = np.random.choice(self.act_dim)\n",
    "\n",
    "        else:\n",
    "            out_a = np.argmax(all_q_ai)\n",
    "        return out_a, all_q_ai\n",
    "    \n",
    "\n",
    "    def act_ucb(self, s, w, t):\n",
    "        if (self.ucb_Na ==0).any():\n",
    "            out_a, all_q_ai = self.a_epsilon_greedy(s, w)\n",
    "        else:\n",
    "            all_q_ai = self.get_allq(s, w)\n",
    "            ucb_vals = all_q_ai + self.ucb_c * np.sqrt(np.log(t)/self.ucb_Na)\n",
    "\n",
    "            out_a = np.argmax(ucb_vals)\n",
    "        self.ucb_Na[out_a] += 1\n",
    "        return out_a, all_q_ai\n",
    "\n",
    "    def get_allq(self, s:int, w:np.ndarray):\n",
    "        all_q_ai = np.zeros(self.act_dim)\n",
    "        for ai in range(self.act_dim):\n",
    "            vec = self.get_1dvec(s, ai)\n",
    "            q_ai = np.dot(vec, w)\n",
    "            all_q_ai[ai] = q_ai\n",
    "        return all_q_ai\n",
    "\n"
   ]
  },
  {
   "attachments": {},
   "cell_type": "markdown",
   "metadata": {},
   "source": [
    "# SARSA(1)"
   ]
  },
  {
   "cell_type": "code",
   "execution_count": 42,
   "metadata": {},
   "outputs": [
    {
     "name": "stdout",
     "output_type": "stream",
     "text": [
      "episode 0, t=1175\n",
      "episode 500, t=101\n",
      "episode 1000, t=47\n",
      "episode 1500, t=339\n",
      "episode 2000, t=167\n",
      "episode 2500, t=921\n",
      "episode 3000, t=105\n",
      "episode 3500, t=81\n",
      "episode 4000, t=103\n",
      "episode 4500, t=105\n"
     ]
    },
    {
     "data": {
      "text/plain": [
       "array([-2.29016575e+01, -5.01439946e+00, -3.52118021e+01, -4.98425070e+00,\n",
       "       -2.61949252e+01, -2.60504267e+00, -1.93698096e+01, -2.33305640e+00,\n",
       "       -2.01789088e+01, -2.27700698e+00, -1.04381220e+01, -9.45216904e+00,\n",
       "       -3.87389724e+00, -2.73748329e+00, -1.99727332e+00, -2.49718060e+00,\n",
       "       -7.86689264e-01, -1.61048714e+00, -4.08828167e-01, -1.64389906e+00,\n",
       "       -9.87521506e-01, -1.56170638e+00, -4.04491000e-01, -1.58160645e+00,\n",
       "       -3.51508507e+00, -8.09547550e-01, -2.50286608e+00, -7.12955961e-02,\n",
       "       -1.33338085e+00, -4.71445020e-02, -1.04958411e+00, -4.45986458e-02,\n",
       "       -1.26116875e+00, -3.28139684e-02, -1.58416648e+00, -9.93282401e-01,\n",
       "       -2.19261814e+01,  1.54017014e-03, -2.67026819e-03, -1.47425054e-03,\n",
       "       -1.92550690e-03,  4.26627798e-04, -1.74651021e-03, -5.67408017e-04,\n",
       "        3.91628789e-04, -5.82290629e-04,  7.77711950e-04,  1.17693099e-03,\n",
       "       -2.26563081e+01, -5.91421162e+00, -3.50611274e+01, -5.88435398e+00,\n",
       "       -2.59491484e+01, -3.55139622e+00, -1.90573459e+01, -3.28623948e+00,\n",
       "       -1.98763682e+01, -3.22327898e+00, -1.01303841e+01, -9.75817208e+00,\n",
       "       -4.79339754e+00, -1.77235881e+00, -2.94118325e+00, -1.52728510e+00,\n",
       "       -1.76869750e+00, -6.21667408e-01, -1.38016440e+00, -6.56751785e-01,\n",
       "       -1.96741744e+00, -1.04333414e+00, -1.40295934e+00, -5.99297912e-01,\n",
       "       -2.57000403e+00, -2.40393475e+00, -1.31230669e+00, -9.24075612e-01,\n",
       "       -1.26133787e-01, -6.89540554e-01, -3.50250359e-02, -9.65891946e-01,\n",
       "       -8.77903918e-02, -6.72811030e-01, -1.98253743e+00, -1.94589506e+00,\n",
       "       -1.03274918e+02,  3.46641461e-04,  2.16213215e-03,  1.64540490e-04,\n",
       "       -1.28746634e-03,  1.04914167e-03,  1.86868900e-04,  1.54367563e-03,\n",
       "       -3.63103933e-04, -2.37316891e-04,  7.61141284e-04,  8.33369438e-04,\n",
       "       -2.26563107e+01, -5.01450680e+00, -3.52457145e+01, -4.98426783e+00,\n",
       "       -2.62519889e+01, -2.60509846e+00, -1.92617599e+01, -2.33309076e+00,\n",
       "       -2.04536657e+01, -2.27699625e+00, -1.03316632e+01, -9.45217269e+00,\n",
       "       -4.77481538e+00, -2.46499246e+00, -2.27683208e+00, -2.22868115e+00,\n",
       "       -1.45349871e+00, -1.28601359e+00, -1.08516424e+00, -1.35418648e+00,\n",
       "       -1.06583638e+00, -1.26676020e+00, -1.15230887e+00, -1.57617694e+00,\n",
       "       -2.57033042e+00, -5.52264880e+01, -6.44215305e+01, -7.93984953e+00,\n",
       "       -2.14110744e+01, -5.83857130e+00, -1.07791781e+01, -2.47555315e+00,\n",
       "       -2.97746936e+01, -4.41311332e+00, -9.97039982e+01, -9.93280913e-01,\n",
       "       -2.19261768e+01, -1.18426093e-03, -2.10187825e-03, -1.36907730e-03,\n",
       "       -1.32229076e-03, -8.19411552e-04, -1.40041180e-03,  4.45679067e-04,\n",
       "       -1.47035964e-04, -4.61616822e-04,  3.92797676e-04,  9.95346664e-04,\n",
       "       -2.26563111e+01, -5.90793922e+00, -3.50611250e+01, -5.87909962e+00,\n",
       "       -2.59491455e+01, -3.54304267e+00, -1.90573439e+01, -3.26933160e+00,\n",
       "       -1.98763661e+01, -3.23114480e+00, -1.02382125e+01, -9.45216967e+00,\n",
       "       -3.87394065e+00, -2.73380074e+00, -2.95757547e+00, -1.55982528e+00,\n",
       "       -1.77187135e+00, -6.35180671e-01, -1.40220848e+00, -7.49453362e-01,\n",
       "       -1.96792539e+00, -5.72617275e-01, -1.40232826e+00, -6.03182225e-01,\n",
       "       -2.91346381e+00, -1.02335694e+00, -2.50896039e+00, -1.08574861e+00,\n",
       "       -1.98318423e-01, -8.80237202e-01, -7.15169682e-02, -1.32159527e-01,\n",
       "       -9.05996013e-02, -8.73537785e-01, -1.47833534e-01, -1.75280311e+00,\n",
       "       -2.19261784e+01,  2.50435386e-04, -4.67289889e-04,  2.14135046e-03,\n",
       "       -6.64184681e-04,  3.97917500e-04, -6.36035908e-04, -4.05353429e-04,\n",
       "        1.18554173e-04, -1.19996810e-03, -4.18236759e-04,  1.08112343e-03])"
      ]
     },
     "execution_count": 42,
     "metadata": {},
     "output_type": "execute_result"
    },
    {
     "data": {
      "image/png": "[encoded data removed]",
      "text/plain": [
       "<Figure size 640x480 with 1 Axes>"
      ]
     },
     "metadata": {},
     "output_type": "display_data"
    }
   ],
   "source": [
    "env = gym.make('CliffWalking-v0')\n",
    "obs_dim = 48\n",
    "act_dim = 4\n",
    "ag = Agent(obs_dim, act_dim, c=2.0, epsilon=0.1)\n",
    "gamma = 0.98\n",
    "alpha = 0.01\n",
    "\n",
    "w = np.random.normal(0, 0.001, size=ag.max_dim)\n",
    "\n",
    "Niters = 5000\n",
    "all_ts = np.zeros(Niters)\n",
    "\n",
    "for ni in range(Niters):\n",
    "    if ni % 500 == 0:\n",
    "        print('episode %d, t=%d'% (ni, t))\n",
    "        alpha = alpha/2\n",
    "        ag.epsilon = ag.epsilon/2\n",
    "    t = 1\n",
    "    terminated, truncated = False, False\n",
    "    s, _ = env.reset()\n",
    "    \n",
    "    a, _ = ag.a_epsilon_greedy(s, w)\n",
    "    \n",
    "    while (terminated is False) :\n",
    "        \n",
    "        sa_vec = ag.get_1dvec(s, a)\n",
    "        q_now = np.dot(sa_vec, w)\n",
    "\n",
    "        s_next, r_next, terminated, truncated, _ = env.step(a)\n",
    "        a_next, all_q_next = ag.a_epsilon_greedy(s, w)\n",
    "        q_next = all_q_next[a_next]\n",
    "\n",
    "\n",
    "        if terminated:\n",
    "            td_err = r_next - q_now\n",
    "        else:\n",
    "            td_err = r_next + gamma * q_next - q_now\n",
    "\n",
    "        # grad_q = sa_vec\n",
    "        # dw = td_err * grad_q\n",
    "        # w = w + alpha * dw\n",
    "\n",
    "        w[s + a * ag.obs_dim] += alpha * td_err\n",
    "        s = s_next\n",
    "        a = a_next\n",
    "\n",
    "        t += 1\n",
    "\n",
    "    all_ts[ni] = t\n",
    "\n",
    "\n",
    "plt.plot(all_ts)\n",
    "\n",
    "\n",
    "\n",
    "\n",
    "w"
   ]
  },
  {
   "cell_type": "code",
   "execution_count": 43,
   "metadata": {},
   "outputs": [
    {
     "data": {
      "image/png": "[encoded data removed]",
      "text/plain": [
       "<Figure size 640x480 with 1 Axes>"
      ]
     },
     "metadata": {},
     "output_type": "display_data"
    }
   ],
   "source": [
    "w2d = w.reshape(ag.obs_dim, ag.act_dim)\n",
    "w3d = w2d.reshape(4, 12, ag.act_dim)\n",
    "\n",
    "maxq2d = np.max(w3d, axis=2)\n",
    "plt.imshow(maxq2d)\n",
    "\n",
    "for r in range(4):\n",
    "    for c in range(12):\n",
    "\n",
    "        q4 = w3d[r, c, :]\n",
    "        besta = np.argmax(q4)\n",
    "\n",
    "        if besta == 0: # 0: Move up\n",
    "            vec = np.array([0, 1])\n",
    "        elif besta == 1:\n",
    "            vec = np.array([1, 0])            \n",
    "        elif besta == 2:\n",
    "            vec = np.array([0, -1])\n",
    "        elif besta == 3:\n",
    "            vec = np.array([-1, 0])\n",
    "        else:\n",
    "            raise\n",
    "        vec = vec * 0.25\n",
    "        plt.arrow(c, r, vec[0], vec[1], head_width=0.2)\n",
    "        \n",
    "\n",
    "        # 1: Move right\n",
    "        # 2: Move down\n",
    "        # 3: Move left\n",
    "        "
   ]
  },
  {
   "cell_type": "code",
   "execution_count": 9,
   "metadata": {},
   "outputs": [
    {
     "data": {
      "text/plain": [
       "<matplotlib.image.AxesImage at 0x177b437c760>"
      ]
     },
     "execution_count": 9,
     "metadata": {},
     "output_type": "execute_result"
    },
    {
     "data": {
      "image/png": "[encoded data removed]",
      "text/plain": [
       "<Figure size 640x480 with 1 Axes>"
      ]
     },
     "metadata": {},
     "output_type": "display_data"
    }
   ],
   "source": [
    "plt.imshow(w.reshape(oh.obs_dim, -1))"
   ]
  },
  {
   "cell_type": "code",
   "execution_count": 8,
   "metadata": {},
   "outputs": [
    {
     "data": {
      "text/plain": [
       "array([-9.90443028e-03,  6.40676185e-03,  5.95412702e-03,  8.84674558e-04,\n",
       "        7.77557451e-03,  1.54547741e-02,  4.45763579e-03, -2.64037355e-04,\n",
       "        5.29892199e-03,  4.21048275e-03, -8.06935111e-03,  2.35715124e-02,\n",
       "        8.73567091e-03,  3.22036296e-03, -6.49984051e-03, -3.40365940e-03,\n",
       "       -1.62179642e-03, -4.94965206e-04,  1.59058139e-03,  1.17040300e-02,\n",
       "        7.40811346e-03,  1.05943399e-02,  4.29319812e-03,  1.46916244e-02,\n",
       "       -1.42040736e-02, -9.95827687e-04,  3.83311002e-03, -2.45792092e-03,\n",
       "       -9.67027693e-03, -6.16362282e-03, -6.43883786e-03,  2.27032897e-02,\n",
       "        2.38940838e-03,  1.68680269e-02,  2.66479447e-04, -6.88827229e-04,\n",
       "        2.21630845e-03, -1.09594690e-03, -2.05364544e-03,  2.04677020e-03,\n",
       "        3.30052651e-03,  1.44193264e-02,  1.36939547e-03, -2.05796211e-05,\n",
       "       -3.44545161e-03,  6.39556241e-03,  6.57075485e-03,  1.31012315e-02,\n",
       "       -3.30528083e-03, -2.46713198e-03,  3.63686187e-03,  5.26344521e-03,\n",
       "       -3.47005921e-03,  1.39680323e-02,  1.59130551e-02, -1.68835151e-02,\n",
       "        8.01748863e-03, -3.61441772e-03,  1.12371133e-02,  4.99221984e-03,\n",
       "       -3.14431852e-03, -9.25749045e-03, -4.62255096e-03,  6.04949702e-03,\n",
       "        5.72923015e-03,  1.02304588e-02,  3.58759878e-03, -7.36987075e-03,\n",
       "        1.66422985e-02,  4.74376569e-03,  4.05476784e-03, -4.58153184e-03,\n",
       "       -3.63563512e-03,  1.80126777e-02,  9.55852375e-03,  2.56699191e-03,\n",
       "       -2.13147882e-03,  4.63118027e-03, -4.36452502e-03, -3.37643543e-04,\n",
       "        1.89590431e-03, -4.83393968e-03, -1.25248506e-02, -1.59240323e-02,\n",
       "       -3.62419633e-04,  1.60286758e-03,  4.52287029e-03,  8.07724981e-03,\n",
       "       -1.35524448e-03, -2.02106022e-03,  9.72382213e-03, -5.06746597e-04,\n",
       "        8.87693042e-03,  1.94560594e-02,  2.18111500e-03, -1.60005143e-02,\n",
       "        6.05282062e-03,  3.77138450e-03, -1.33400682e-02,  1.75724465e-03,\n",
       "        9.18912965e-03,  1.15963102e-02, -1.20372943e-02,  2.15706471e-02,\n",
       "        1.80721266e-02,  4.45898023e-03,  6.14790033e-04,  7.87160516e-04,\n",
       "       -4.74974756e-03, -4.02025546e-03, -1.56165646e-02, -6.80883409e-04,\n",
       "       -1.02926709e-02,  1.07559044e-02,  1.11574304e-02, -8.06918182e-03,\n",
       "        2.67087168e-03, -9.20337408e-03,  1.77420383e-03,  3.61790299e-03,\n",
       "        8.36477538e-03, -7.41692877e-03, -4.17290457e-03,  9.77360745e-03,\n",
       "        8.79885860e-03,  1.32243759e-04, -9.00097781e-03, -3.67733783e-03,\n",
       "        1.04956382e-02,  1.23520965e-03,  7.58604086e-04, -1.29093031e-02,\n",
       "        6.81860744e-04,  5.78090479e-03,  2.10608616e-02,  2.89718632e-03,\n",
       "        6.25372564e-03,  1.31835040e-02, -1.49097513e-02,  1.37616151e-02,\n",
       "        9.21132590e-03,  1.45499233e-02,  3.89020818e-03,  2.83304251e-03,\n",
       "       -1.41657315e-03,  5.72561183e-03,  4.76431510e-03, -5.14355256e-04,\n",
       "       -4.28348881e-04, -5.32882252e-03,  2.49602087e-02,  1.66726058e-02,\n",
       "        2.80545945e-03,  1.80366456e-02,  1.21076544e-03,  6.75183604e-03,\n",
       "       -2.37204938e-03, -6.87161659e-03,  1.66829180e-02, -1.85784100e-03,\n",
       "        1.02504068e-03,  6.17717725e-03,  1.17742051e-02, -1.48646136e-02,\n",
       "       -4.10245937e-03,  4.57364029e-04,  4.69429304e-03, -4.89312506e-04,\n",
       "       -7.62962928e-03, -2.16497491e-02,  1.24230729e-02,  4.53508542e-03,\n",
       "       -8.51825408e-04,  6.05963141e-04,  3.22683489e-03, -1.02185591e-02,\n",
       "        5.36994458e-03,  8.12781416e-03, -3.56194707e-03, -1.20680013e-02,\n",
       "        4.98337328e-03, -6.57026303e-03,  1.29667506e-02,  2.55779191e-02,\n",
       "        1.41050268e-02,  2.14499443e-03,  4.52201646e-03, -3.97344897e-03,\n",
       "       -1.53516374e-02,  5.45147076e-03,  9.62152279e-03, -8.43839343e-04])"
      ]
     },
     "execution_count": 8,
     "metadata": {},
     "output_type": "execute_result"
    }
   ],
   "source": [
    "w"
   ]
  },
  {
   "cell_type": "code",
   "execution_count": 44,
   "metadata": {},
   "outputs": [
    {
     "ename": "KeyboardInterrupt",
     "evalue": "",
     "output_type": "error",
     "traceback": [
      "\u001b[1;31m---------------------------------------------------------------------------\u001b[0m",
      "\u001b[1;31mKeyboardInterrupt\u001b[0m                         Traceback (most recent call last)",
      "\u001b[1;32m~\\AppData\\Local\\Temp\\ipykernel_3688\\1364074178.py\u001b[0m in \u001b[0;36m<module>\u001b[1;34m\u001b[0m\n\u001b[0;32m     15\u001b[0m \u001b[1;33m\u001b[0m\u001b[0m\n\u001b[0;32m     16\u001b[0m \u001b[1;33m\u001b[0m\u001b[0m\n\u001b[1;32m---> 17\u001b[1;33m         \u001b[0ms_next\u001b[0m\u001b[1;33m,\u001b[0m \u001b[0mr_next\u001b[0m\u001b[1;33m,\u001b[0m \u001b[0mterminated\u001b[0m\u001b[1;33m,\u001b[0m \u001b[0mtruncated\u001b[0m\u001b[1;33m,\u001b[0m \u001b[0m_\u001b[0m \u001b[1;33m=\u001b[0m \u001b[0menv\u001b[0m\u001b[1;33m.\u001b[0m\u001b[0mstep\u001b[0m\u001b[1;33m(\u001b[0m\u001b[0ma\u001b[0m\u001b[1;33m)\u001b[0m\u001b[1;33m\u001b[0m\u001b[1;33m\u001b[0m\u001b[0m\n\u001b[0m\u001b[0;32m     18\u001b[0m         \u001b[0ma_next\u001b[0m\u001b[1;33m,\u001b[0m \u001b[0mall_q_next\u001b[0m \u001b[1;33m=\u001b[0m \u001b[0mag\u001b[0m\u001b[1;33m.\u001b[0m\u001b[0ma_epsilon_greedy\u001b[0m\u001b[1;33m(\u001b[0m\u001b[0ms\u001b[0m\u001b[1;33m,\u001b[0m \u001b[0mw\u001b[0m\u001b[1;33m)\u001b[0m\u001b[1;33m\u001b[0m\u001b[1;33m\u001b[0m\u001b[0m\n\u001b[0;32m     19\u001b[0m \u001b[1;33m\u001b[0m\u001b[0m\n",
      "\u001b[1;32mc:\\Users\\Hoi\\anaconda3\\lib\\site-packages\\gymnasium\\wrappers\\order_enforcing.py\u001b[0m in \u001b[0;36mstep\u001b[1;34m(self, action)\u001b[0m\n\u001b[0;32m     36\u001b[0m         \u001b[1;32mif\u001b[0m \u001b[1;32mnot\u001b[0m \u001b[0mself\u001b[0m\u001b[1;33m.\u001b[0m\u001b[0m_has_reset\u001b[0m\u001b[1;33m:\u001b[0m\u001b[1;33m\u001b[0m\u001b[1;33m\u001b[0m\u001b[0m\n\u001b[0;32m     37\u001b[0m             \u001b[1;32mraise\u001b[0m \u001b[0mResetNeeded\u001b[0m\u001b[1;33m(\u001b[0m\u001b[1;34m\"Cannot call env.step() before calling env.reset()\"\u001b[0m\u001b[1;33m)\u001b[0m\u001b[1;33m\u001b[0m\u001b[1;33m\u001b[0m\u001b[0m\n\u001b[1;32m---> 38\u001b[1;33m         \u001b[1;32mreturn\u001b[0m \u001b[0mself\u001b[0m\u001b[1;33m.\u001b[0m\u001b[0menv\u001b[0m\u001b[1;33m.\u001b[0m\u001b[0mstep\u001b[0m\u001b[1;33m(\u001b[0m\u001b[0maction\u001b[0m\u001b[1;33m)\u001b[0m\u001b[1;33m\u001b[0m\u001b[1;33m\u001b[0m\u001b[0m\n\u001b[0m\u001b[0;32m     39\u001b[0m \u001b[1;33m\u001b[0m\u001b[0m\n\u001b[0;32m     40\u001b[0m     \u001b[1;32mdef\u001b[0m \u001b[0mreset\u001b[0m\u001b[1;33m(\u001b[0m\u001b[0mself\u001b[0m\u001b[1;33m,\u001b[0m \u001b[1;33m**\u001b[0m\u001b[0mkwargs\u001b[0m\u001b[1;33m)\u001b[0m\u001b[1;33m:\u001b[0m\u001b[1;33m\u001b[0m\u001b[1;33m\u001b[0m\u001b[0m\n",
      "\u001b[1;32mc:\\Users\\Hoi\\anaconda3\\lib\\site-packages\\gymnasium\\wrappers\\env_checker.py\u001b[0m in \u001b[0;36mstep\u001b[1;34m(self, action)\u001b[0m\n\u001b[0;32m     37\u001b[0m             \u001b[1;32mreturn\u001b[0m \u001b[0menv_step_passive_checker\u001b[0m\u001b[1;33m(\u001b[0m\u001b[0mself\u001b[0m\u001b[1;33m.\u001b[0m\u001b[0menv\u001b[0m\u001b[1;33m,\u001b[0m \u001b[0maction\u001b[0m\u001b[1;33m)\u001b[0m\u001b[1;33m\u001b[0m\u001b[1;33m\u001b[0m\u001b[0m\n\u001b[0;32m     38\u001b[0m         \u001b[1;32melse\u001b[0m\u001b[1;33m:\u001b[0m\u001b[1;33m\u001b[0m\u001b[1;33m\u001b[0m\u001b[0m\n\u001b[1;32m---> 39\u001b[1;33m             \u001b[1;32mreturn\u001b[0m \u001b[0mself\u001b[0m\u001b[1;33m.\u001b[0m\u001b[0menv\u001b[0m\u001b[1;33m.\u001b[0m\u001b[0mstep\u001b[0m\u001b[1;33m(\u001b[0m\u001b[0maction\u001b[0m\u001b[1;33m)\u001b[0m\u001b[1;33m\u001b[0m\u001b[1;33m\u001b[0m\u001b[0m\n\u001b[0m\u001b[0;32m     40\u001b[0m \u001b[1;33m\u001b[0m\u001b[0m\n\u001b[0;32m     41\u001b[0m     \u001b[1;32mdef\u001b[0m \u001b[0mreset\u001b[0m\u001b[1;33m(\u001b[0m\u001b[0mself\u001b[0m\u001b[1;33m,\u001b[0m \u001b[1;33m**\u001b[0m\u001b[0mkwargs\u001b[0m\u001b[1;33m)\u001b[0m\u001b[1;33m:\u001b[0m\u001b[1;33m\u001b[0m\u001b[1;33m\u001b[0m\u001b[0m\n",
      "\u001b[1;32mc:\\Users\\Hoi\\anaconda3\\lib\\site-packages\\gymnasium\\envs\\toy_text\\cliffwalking.py\u001b[0m in \u001b[0;36mstep\u001b[1;34m(self, a)\u001b[0m\n\u001b[0;32m    179\u001b[0m \u001b[1;33m\u001b[0m\u001b[0m\n\u001b[0;32m    180\u001b[0m         \u001b[1;32mif\u001b[0m \u001b[0mself\u001b[0m\u001b[1;33m.\u001b[0m\u001b[0mrender_mode\u001b[0m \u001b[1;33m==\u001b[0m \u001b[1;34m\"human\"\u001b[0m\u001b[1;33m:\u001b[0m\u001b[1;33m\u001b[0m\u001b[1;33m\u001b[0m\u001b[0m\n\u001b[1;32m--> 181\u001b[1;33m             \u001b[0mself\u001b[0m\u001b[1;33m.\u001b[0m\u001b[0mrender\u001b[0m\u001b[1;33m(\u001b[0m\u001b[1;33m)\u001b[0m\u001b[1;33m\u001b[0m\u001b[1;33m\u001b[0m\u001b[0m\n\u001b[0m\u001b[0;32m    182\u001b[0m         \u001b[1;32mreturn\u001b[0m \u001b[1;33m(\u001b[0m\u001b[0mint\u001b[0m\u001b[1;33m(\u001b[0m\u001b[0ms\u001b[0m\u001b[1;33m)\u001b[0m\u001b[1;33m,\u001b[0m \u001b[0mr\u001b[0m\u001b[1;33m,\u001b[0m \u001b[0mt\u001b[0m\u001b[1;33m,\u001b[0m \u001b[1;32mFalse\u001b[0m\u001b[1;33m,\u001b[0m \u001b[1;33m{\u001b[0m\u001b[1;34m\"prob\"\u001b[0m\u001b[1;33m:\u001b[0m \u001b[0mp\u001b[0m\u001b[1;33m}\u001b[0m\u001b[1;33m)\u001b[0m\u001b[1;33m\u001b[0m\u001b[1;33m\u001b[0m\u001b[0m\n\u001b[0;32m    183\u001b[0m \u001b[1;33m\u001b[0m\u001b[0m\n",
      "\u001b[1;32mc:\\Users\\Hoi\\anaconda3\\lib\\site-packages\\gymnasium\\envs\\toy_text\\cliffwalking.py\u001b[0m in \u001b[0;36mrender\u001b[1;34m(self)\u001b[0m\n\u001b[0;32m    204\u001b[0m             \u001b[1;32mreturn\u001b[0m \u001b[0mself\u001b[0m\u001b[1;33m.\u001b[0m\u001b[0m_render_text\u001b[0m\u001b[1;33m(\u001b[0m\u001b[1;33m)\u001b[0m\u001b[1;33m\u001b[0m\u001b[1;33m\u001b[0m\u001b[0m\n\u001b[0;32m    205\u001b[0m         \u001b[1;32melse\u001b[0m\u001b[1;33m:\u001b[0m\u001b[1;33m\u001b[0m\u001b[1;33m\u001b[0m\u001b[0m\n\u001b[1;32m--> 206\u001b[1;33m             \u001b[1;32mreturn\u001b[0m \u001b[0mself\u001b[0m\u001b[1;33m.\u001b[0m\u001b[0m_render_gui\u001b[0m\u001b[1;33m(\u001b[0m\u001b[0mself\u001b[0m\u001b[1;33m.\u001b[0m\u001b[0mrender_mode\u001b[0m\u001b[1;33m)\u001b[0m\u001b[1;33m\u001b[0m\u001b[1;33m\u001b[0m\u001b[0m\n\u001b[0m\u001b[0;32m    207\u001b[0m \u001b[1;33m\u001b[0m\u001b[0m\n\u001b[0;32m    208\u001b[0m     \u001b[1;32mdef\u001b[0m \u001b[0m_render_gui\u001b[0m\u001b[1;33m(\u001b[0m\u001b[0mself\u001b[0m\u001b[1;33m,\u001b[0m \u001b[0mmode\u001b[0m\u001b[1;33m)\u001b[0m\u001b[1;33m:\u001b[0m\u001b[1;33m\u001b[0m\u001b[1;33m\u001b[0m\u001b[0m\n",
      "\u001b[1;32mc:\\Users\\Hoi\\anaconda3\\lib\\site-packages\\gymnasium\\envs\\toy_text\\cliffwalking.py\u001b[0m in \u001b[0;36m_render_gui\u001b[1;34m(self, mode)\u001b[0m\n\u001b[0;32m    291\u001b[0m             \u001b[0mpygame\u001b[0m\u001b[1;33m.\u001b[0m\u001b[0mevent\u001b[0m\u001b[1;33m.\u001b[0m\u001b[0mpump\u001b[0m\u001b[1;33m(\u001b[0m\u001b[1;33m)\u001b[0m\u001b[1;33m\u001b[0m\u001b[1;33m\u001b[0m\u001b[0m\n\u001b[0;32m    292\u001b[0m             \u001b[0mpygame\u001b[0m\u001b[1;33m.\u001b[0m\u001b[0mdisplay\u001b[0m\u001b[1;33m.\u001b[0m\u001b[0mupdate\u001b[0m\u001b[1;33m(\u001b[0m\u001b[1;33m)\u001b[0m\u001b[1;33m\u001b[0m\u001b[1;33m\u001b[0m\u001b[0m\n\u001b[1;32m--> 293\u001b[1;33m             \u001b[0mself\u001b[0m\u001b[1;33m.\u001b[0m\u001b[0mclock\u001b[0m\u001b[1;33m.\u001b[0m\u001b[0mtick\u001b[0m\u001b[1;33m(\u001b[0m\u001b[0mself\u001b[0m\u001b[1;33m.\u001b[0m\u001b[0mmetadata\u001b[0m\u001b[1;33m[\u001b[0m\u001b[1;34m\"render_fps\"\u001b[0m\u001b[1;33m]\u001b[0m\u001b[1;33m)\u001b[0m\u001b[1;33m\u001b[0m\u001b[1;33m\u001b[0m\u001b[0m\n\u001b[0m\u001b[0;32m    294\u001b[0m         \u001b[1;32melse\u001b[0m\u001b[1;33m:\u001b[0m  \u001b[1;31m# rgb_array\u001b[0m\u001b[1;33m\u001b[0m\u001b[1;33m\u001b[0m\u001b[0m\n\u001b[0;32m    295\u001b[0m             return np.transpose(\n",
      "\u001b[1;31mKeyboardInterrupt\u001b[0m: "
     ]
    }
   ],
   "source": [
    "env = gym.make('CliffWalking-v0', render_mode='human')\n",
    "\n",
    "obs_dim = 48\n",
    "act_dim = 4\n",
    "ag = Agent(obs_dim, act_dim, c=2.0, epsilon=0)\n",
    "\n",
    "\n",
    "Niters = 5000\n",
    "\n",
    "for ni in range(Niters):\n",
    "    terminated, truncated = False, False\n",
    "    s, _ = env.reset()\n",
    "    a, _ = ag.a_epsilon_greedy(s, w)\n",
    "    while (terminated is False) :\n",
    "        \n",
    "\n",
    "        s_next, r_next, terminated, truncated, _ = env.step(a)\n",
    "        a_next, all_q_next = ag.a_epsilon_greedy(s, w)\n",
    "\n",
    "        s = s_next\n",
    "        a = a_next"
   ]
  },
  {
   "cell_type": "code",
   "execution_count": 96,
   "metadata": {},
   "outputs": [
    {
     "name": "stdout",
     "output_type": "stream",
     "text": [
      "47 -1 True False {'prob': 1.0}\n"
     ]
    }
   ],
   "source": [
    "afoo = 2\n",
    "s_next, r_next, terminated, truncated, _ = env.step(afoo)\n",
    "print(s_next, r_next, terminated, truncated, _)"
   ]
  },
  {
   "cell_type": "code",
   "execution_count": 21,
   "metadata": {},
   "outputs": [],
   "source": [
    "env.close()"
   ]
  }
 ],
 "metadata": {
  "kernelspec": {
   "display_name": "base",
   "language": "python",
   "name": "python3"
  },
  "language_info": {
   "codemirror_mode": {
    "name": "ipython",
    "version": 3
   },
   "file_extension": ".py",
   "mimetype": "text/x-python",
   "name": "python",
   "nbconvert_exporter": "python",
   "pygments_lexer": "ipython3",
   "version": "3.9.16"
  },
  "orig_nbformat": 4
 },
 "nbformat": 4,
 "nbformat_minor": 2
}
