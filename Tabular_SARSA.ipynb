{
 "cells": [
  {
   "cell_type": "code",
   "execution_count": 1,
   "metadata": {},
   "outputs": [],
   "source": [
    "import numpy as np\n",
    "import matplotlib.pyplot as plt\n",
    "import gymnasium as gym\n",
    "def vis_cliff_walking(qtable, ax):\n",
    "    q3d = qtable.reshape(4, 12, ag.act_dim)\n",
    "\n",
    "    maxq2d = np.max(q3d, axis=2)\n",
    "    ax.imshow(maxq2d)\n",
    "\n",
    "    for r in range(4):\n",
    "        for c in range(12):\n",
    "\n",
    "            q4 = q3d[r, c, :]\n",
    "            besta = np.argmax(q4)\n",
    "\n",
    "            if besta == 0: # 0: Move up\n",
    "                vec = np.array([0, -1])\n",
    "            elif besta == 1:\n",
    "                vec = np.array([1, 0])            \n",
    "            elif besta == 2:\n",
    "                vec = np.array([0, 1])\n",
    "            elif besta == 3:\n",
    "                vec = np.array([-1, 0])\n",
    "            else:\n",
    "                raise\n",
    "            vec = vec * 0.25\n",
    "            ax.arrow(c, r, vec[0], vec[1], head_width=0.2)"
   ]
  },
  {
   "cell_type": "code",
   "execution_count": null,
   "metadata": {},
   "outputs": [],
   "source": [
    "class Agent():\n",
    "    def __init__(self, obs_dim, act_dim, c=2.0, epsilon=0.2) -> object:\n",
    "        self.obs_dim = obs_dim\n",
    "        self.act_dim = act_dim\n",
    "        self.max_dim = obs_dim * act_dim\n",
    "        self.epsilon = epsilon\n",
    "\n",
    "        self.qtable = np.random.normal(0, 0.0001, size=(self.obs_dim, self.act_dim))\n",
    "\n",
    "    \n",
    "\n",
    "    def a_epsilon_greedy(self, s):\n",
    "        q_alla = self.qtable[s, :]\n",
    "        \n",
    "    \n",
    "        if np.random.rand() < self.epsilon:\n",
    "            out_a = np.random.choice(self.act_dim)\n",
    "\n",
    "        else:\n",
    "            out_a = np.argmax(q_alla)\n",
    "        return out_a, q_alla\n",
    "    \n",
    "\n",
    "\n"
   ]
  },
  {
   "attachments": {},
   "cell_type": "markdown",
   "metadata": {},
   "source": [
    "# SARSA(1)"
   ]
  },
  {
   "cell_type": "code",
   "execution_count": null,
   "metadata": {},
   "outputs": [
    {
     "name": "stdout",
     "output_type": "stream",
     "text": [
      "episode 0, t=0\n",
      "episode 1000, t=80\n",
      "episode 2000, t=18\n",
      "episode 3000, t=27\n",
      "episode 4000, t=16\n"
     ]
    },
    {
     "data": {
      "text/plain": [
       "[<matplotlib.lines.Line2D at 0x1b8f7c4ed00>]"
      ]
     },
     "execution_count": 17,
     "metadata": {},
     "output_type": "execute_result"
    },
    {
     "data": {
      "image/png": "[encoded data removed]",
      "text/plain": [
       "<Figure size 720x360 with 2 Axes>"
      ]
     },
     "metadata": {
      "needs_background": "light"
     },
     "output_type": "display_data"
    }
   ],
   "source": [
    "env = gym.make('CliffWalking-v0')\n",
    "obs_dim = 48\n",
    "act_dim = 4\n",
    "ag = Agent(obs_dim, act_dim, epsilon=0.1)\n",
    "gamma = 0.98\n",
    "alpha = 0.01\n",
    "\n",
    "Niters = 5000\n",
    "all_ts = np.zeros(Niters)\n",
    "\n",
    "for ni in range(Niters):\n",
    "    if ni % 1000 == 0:\n",
    "        print('episode %d, t=%d'% (ni, all_ts[ni-1]))\n",
    "    t = 1\n",
    "    terminated, truncated = False, False\n",
    "    s, _ = env.reset()\n",
    "    \n",
    "    \n",
    "    while (terminated is False) :\n",
    "        \n",
    "        \n",
    "        a, q_alla_now = ag.a_epsilon_greedy(s)\n",
    "        q_now = q_alla_now[a]\n",
    "        s_next, r_next, terminated, truncated, _ = env.step(a)\n",
    "        a_next, all_q_next = ag.a_epsilon_greedy(s_next)\n",
    "        q_next = all_q_next[a_next]\n",
    "\n",
    "\n",
    "        if terminated:\n",
    "            td_err = r_next - q_now\n",
    "        else:\n",
    "            td_err = r_next + gamma * q_next - q_now\n",
    "\n",
    "        ag.qtable[s, a] += alpha * td_err\n",
    "        s = s_next\n",
    "\n",
    "        t += 1\n",
    "\n",
    "    all_ts[ni] = t\n",
    "\n",
    "\n",
    "fig, ax = plt.subplots(1, 2, figsize=(10, 5))\n",
    "ax[0].plot(all_ts)\n",
    "ax[1].plot(all_ts[-50:])\n",
    "fig, ax = plt.subplots()\n",
    "vis_cliff_walking(ag.qtable, ax)\n"
   ]
  },
  {
   "cell_type": "code",
   "execution_count": null,
   "metadata": {},
   "outputs": [],
   "source": []
  }
 ],
 "metadata": {
  "kernelspec": {
   "display_name": "base",
   "language": "python",
   "name": "python3"
  },
  "language_info": {
   "codemirror_mode": {
    "name": "ipython",
    "version": 3
   },
   "file_extension": ".py",
   "mimetype": "text/x-python",
   "name": "python",
   "nbconvert_exporter": "python",
   "pygments_lexer": "ipython3",
   "version": "3.8.5"
  },
  "orig_nbformat": 4
 },
 "nbformat": 4,
 "nbformat_minor": 2
}
